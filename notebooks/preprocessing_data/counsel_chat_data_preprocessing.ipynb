{
 "cells": [
  {
   "cell_type": "code",
   "execution_count": 23,
   "metadata": {},
   "outputs": [],
   "source": [
    "import os\n",
    "import pandas as pd\n",
    "import re\n",
    "import json\n",
    "from dotenv import load_dotenv "
   ]
  },
  {
   "cell_type": "code",
   "execution_count": 76,
   "metadata": {},
   "outputs": [],
   "source": [
    "# Define the paths\n",
    "\n",
    "load_dotenv() # Load environment variables from .env file\n",
    "DATASET_PATH = os.getenv('DATASET_PATH') # Get the DATASET_PATH stored in .env file\n",
    "\n",
    "# Define file names\n",
    "source_data_file = 'counsel_chat_data_ORIGINAL.csv'\n",
    "source_data = os.path.join(DATASET_PATH, 'source_data', source_data_file)\n",
    "output_file = os.path.join(DATASET_PATH, 'counsel_chat_data.json')"
   ]
  },
  {
   "cell_type": "code",
   "execution_count": 77,
   "metadata": {},
   "outputs": [],
   "source": [
    "# Load the CSV file\n",
    "df = pd.read_csv(source_data)\n",
    "\n",
    "# Drop the unnecessary columns\n",
    "df = df.drop(columns=['questionLink', 'therapistURL', 'upvotes', 'views'])\n",
    "\n",
    "# Rename the columns\n",
    "df = df.rename(columns={\n",
    "    'questionID': 'question_id',\n",
    "    'questionTitle': 'question_title',\n",
    "    'questionText': 'question_full',\n",
    "    'answerText': 'answer',\n",
    "    'therapistInfo': 'source',\n",
    "    'topic': 'topic'\n",
    "})\n",
    "\n",
    "# Update the question_id column by appending 'cc_' to the existing values\n",
    "#df['question_id'] = 'cc_' + df['question_id'].astype(str)"
   ]
  },
  {
   "cell_type": "code",
   "execution_count": 78,
   "metadata": {},
   "outputs": [],
   "source": [
    "# Replace text based on given replacements Note: Identified by inspection\n",
    "\n",
    "replacements = {\n",
    "    'â€™': '’',          # Fix incorrectly encoded apostrophe\n",
    "    '\\u2019': '’',       # Fix Unicode right single quote\n",
    "    '\\u201c': '\"',       # Replace Unicode left double quote with regular double quote\n",
    "    '\\u201d': '\"',       # Replace Unicode right double quote with regular double quote\n",
    "    'fiancÃ©': 'fiancé', # Fix incorrectly encoded word\n",
    "    'StrÃ¶m': 'Ström',   # Fix incorrectly encoded name\n",
    "    'Â': ' '              # Remove encoding artifact (empty replacement)\n",
    "}\n",
    "\n",
    "# Apply the replacements explicitly across all text columns\n",
    "for column in df.columns:\n",
    "    if df[column].dtype == 'object':  # Only process text columns\n",
    "        for key, value in replacements.items():\n",
    "            df[column] = df[column].apply(lambda x: str(x).replace(key, value))"
   ]
  },
  {
   "cell_type": "code",
   "execution_count": 79,
   "metadata": {},
   "outputs": [],
   "source": [
    "# Function to identify and remove control characters in a single text entry\n",
    "def remove_control_characters(text):\n",
    "    # Regular expression for control characters (ASCII control chars + some common Unicode ones)\n",
    "    control_chars_pattern = r'[\\x00-\\x1F\\x7F\\u200b\\xa0]'  # ASCII control chars, zero-width space, non-breaking space\n",
    "    \n",
    "    # Remove control characters by replacing them with an empty string\n",
    "    cleaned_text = re.sub(control_chars_pattern, '', str(text))  # Convert text to string just in case\n",
    "    \n",
    "    return cleaned_text\n",
    "\n",
    "# Apply the function to all text columns in the dataframe\n",
    "for column in df.columns:\n",
    "    if df[column].dtype == 'object':  # Only apply to text columns\n",
    "        df[column] = df[column].apply(remove_control_characters) # Apply the removal function to each row in the column\n"
   ]
  },
  {
   "cell_type": "code",
   "execution_count": 80,
   "metadata": {},
   "outputs": [
    {
     "name": "stdout",
     "output_type": "stream",
     "text": [
      "Cleaned data saved to C:\\\\Users\\\\matth\\\\My_Projects\\\\2024_Zoom_Camp_RAG_Project\\\\data\\counsel_chat_data_CLEAN.json\n"
     ]
    }
   ],
   "source": [
    "# Initialize an empty list to hold the JSON output\n",
    "final_json = []\n",
    "\n",
    "# Group the dataframe by 'question_id'\n",
    "grouped = df.groupby('question_id')\n",
    "\n",
    "# Iterate over the groups (questions)\n",
    "for question_id, group in grouped:\n",
    "    # Get the first row for the common question data\n",
    "    question_data = group.iloc[0]\n",
    "    \n",
    "    # Prepare the question-level information\n",
    "    question_info = {\n",
    "        \"question_id\": \"cc_\" + str(question_id),  # Ensure only one 'cc_' prefix\n",
    "        \"topic\": question_data['topic'],\n",
    "        \"question_title\": question_data['question_title'],\n",
    "        \"question_full\": question_data['question_full'],\n",
    "        \"answers\": []\n",
    "    }\n",
    "    \n",
    "    # Collect all answers for this question\n",
    "    for _, row in group.iterrows():\n",
    "        answer_info = {\n",
    "            \"answer\": row['answer'], # The actual answer\n",
    "            \"source\": row['source']  # Therapist information\n",
    "        }\n",
    "        # Append each answer to the question's answer list\n",
    "        question_info[\"answers\"].append(answer_info)\n",
    "    \n",
    "    # Append the question info to the final JSON list\n",
    "    final_json.append(question_info)\n",
    "\n",
    "# Save the final JSON structure to a file\n",
    "with open(output_file, 'w') as json_file:\n",
    "    json.dump(final_json, json_file, indent=4)\n",
    "\n",
    "print(f\"Cleaned data saved to {output_file}\")"
   ]
  },
  {
   "cell_type": "code",
   "execution_count": 81,
   "metadata": {},
   "outputs": [
    {
     "name": "stdout",
     "output_type": "stream",
     "text": [
      "I just want to acknowledge you for the courage to take the step to get support. It can be overwhelming to have so many things going on, and it might be hard to figure out where to start. I truly believe that one of the biggest advantages to working with a therapist is that a therapist can help you prioritize and work with those issues that need to be addressed first and foremost. A therapist will help you with the flow of dealing with different aspects that come up. Some issues may even be related to one another. For examples, some clients with depression may also feel anxiety about their depression. Also, rest assured, many clients go to therapy for multiple issues. We are complex beings. I encourage you to reach out to a therapist and talk about this concern. You may find out that even upon the first meeting you will feel hopeful that you will be able to create a plan with a therapist to address your issues. I don't believe you have too many issues, I think starting sooner rather than later will put you on the path to healing. Good luck. I am rooting for you!\n"
     ]
    }
   ],
   "source": [
    "print(df['answer'].iloc[4])"
   ]
  },
  {
   "cell_type": "code",
   "execution_count": null,
   "metadata": {},
   "outputs": [],
   "source": []
  }
 ],
 "metadata": {
  "kernelspec": {
   "display_name": "Python 3 (ipykernel)",
   "language": "python",
   "name": "python3"
  },
  "language_info": {
   "codemirror_mode": {
    "name": "ipython",
    "version": 3
   },
   "file_extension": ".py",
   "mimetype": "text/x-python",
   "name": "python",
   "nbconvert_exporter": "python",
   "pygments_lexer": "ipython3",
   "version": "3.12.5"
  }
 },
 "nbformat": 4,
 "nbformat_minor": 4
}
