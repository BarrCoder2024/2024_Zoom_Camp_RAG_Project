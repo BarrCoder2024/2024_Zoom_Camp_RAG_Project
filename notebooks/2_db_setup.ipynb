{
 "cells": [
  {
   "cell_type": "markdown",
   "id": "fead2323-d44e-4abf-a83b-def0d6c6f565",
   "metadata": {},
   "source": [
    "# Setting Up the PostgreSQL Schema with pgvector in Python"
   ]
  },
  {
   "cell_type": "code",
   "execution_count": 8,
   "id": "86ba1870-ffcd-4f9a-84dc-86c51fc62387",
   "metadata": {},
   "outputs": [],
   "source": [
    "import os\n",
    "from dotenv import load_dotenv \n",
    "import json\n",
    "import psycopg2\n",
    "from psycopg2.extras import Json"
   ]
  },
  {
   "cell_type": "code",
   "execution_count": 2,
   "id": "f14606d8-3ca6-4034-a2fd-f8fe794e0a5b",
   "metadata": {},
   "outputs": [
    {
     "name": "stdout",
     "output_type": "stream",
     "text": [
      "Nice! Connection successful!\n"
     ]
    }
   ],
   "source": [
    "# Check connection to database\n",
    "\n",
    "# Load environment variables from .env file\n",
    "load_dotenv() \n",
    "# Get PostgreSQL connection details from environment variables\n",
    "username = os.getenv('PG_ADMIN_USERNAME')  # Get the server admin login name stored in .env file\n",
    "password = os.getenv('PG_ADMIN_PASSWORD')  # Get the server password stored in .env file\n",
    "host = os.getenv('PG_SERVER_NAME')         # Get the server name stored in .env file\n",
    "port = os.getenv('POSTGRES_PORT')          # Get the Standard PostgreSQL port stored in .env file\n",
    "database = os.getenv('PG_DATABASE')        # Get the database name stored in .env file\n",
    "\n",
    "# The PostgreSQL connection string \n",
    "POSTGRESQL_CONNECTION = f\"postgresql://{username}:{password}@{host}:{port}/{database}\"\n",
    "\n",
    "# Connect to the PostgreSQL database\n",
    "def connect_to_db():\n",
    "    connection = psycopg2.connect(POSTGRESQL_CONNECTION)\n",
    "    return connection\n",
    "\n",
    "# Test the connection\n",
    "try:\n",
    "    conn = connect_to_db()\n",
    "    cursor = conn.cursor()\n",
    "    print(\"Nice! Connection successful!\")\n",
    "    cursor.close()\n",
    "    conn.close()\n",
    "except Exception as e:\n",
    "    print(f\"Error: {e}\")"
   ]
  },
  {
   "cell_type": "code",
   "execution_count": 11,
   "id": "d5f7cd72-c629-4b80-9d85-1a72a6e28248",
   "metadata": {},
   "outputs": [
    {
     "name": "stdout",
     "output_type": "stream",
     "text": [
      "Tables: ['talk']\n"
     ]
    }
   ],
   "source": [
    "# Check 3: Check existing tables in the database\n",
    "\n",
    "def list_tables():\n",
    "    try:\n",
    "        conn = connect_to_db()\n",
    "        cursor = conn.cursor()\n",
    "        cursor.execute(\"SELECT table_name FROM information_schema.tables WHERE table_schema = 'public';\")\n",
    "        tables = cursor.fetchall()\n",
    "        \n",
    "        print(\"Tables:\", [table[0] for table in tables] if tables else \"No tables found.\")\n",
    "        \n",
    "        cursor.close()\n",
    "        conn.close()\n",
    "    except Exception as e:\n",
    "        print(f\"Error listing tables: {e}\")\n",
    "\n",
    "list_tables()"
   ]
  },
  {
   "cell_type": "code",
   "execution_count": 4,
   "id": "f9dcc0ce-05bc-4260-b413-1ed6020127a1",
   "metadata": {},
   "outputs": [
    {
     "name": "stdout",
     "output_type": "stream",
     "text": [
      "Table created successfully!\n"
     ]
    }
   ],
   "source": [
    "# Setup our table. It will be called talk\n",
    "\n",
    "# Create a cursor object to execute SQL commands\n",
    "conn = connect_to_db()\n",
    "cursor = conn.cursor()\n",
    "\n",
    "# SQL query to create the table with metadata field containing topic, question_title, and source\n",
    "create_table_query = \"\"\"\n",
    "    CREATE EXTENSION IF NOT EXISTS vector;\n",
    "\n",
    "    CREATE TABLE IF NOT EXISTS talk (\n",
    "        question_id VARCHAR(50) PRIMARY KEY,\n",
    "        question_full TEXT,\n",
    "        answers JSONB,\n",
    "        vector VECTOR(1536),  -- Will be using text-embedding-ada-002 (OpenAI) which produces 1536-dimension vectors\n",
    "        metadata JSONB  -- This will contain topic, question_title, and source\n",
    "    );\n",
    "\"\"\"\n",
    "\n",
    "try:\n",
    "    # Execute the query\n",
    "    cursor.execute(create_table_query)\n",
    "    \n",
    "    # Commit changes\n",
    "    conn.commit()\n",
    "    print(\"Table created successfully!\")\n",
    "    \n",
    "except Exception as e:\n",
    "    print(f\"Error occurred: {e}\")\n",
    "\n",
    "finally:\n",
    "    # Close cursor and connection\n",
    "    cursor.close()\n",
    "    conn.close()\n",
    "\n",
    "list_tables()"
   ]
  },
  {
   "cell_type": "code",
   "execution_count": null,
   "id": "e44dd7b5-2e34-4f8d-bb52-2966410d54c4",
   "metadata": {},
   "outputs": [],
   "source": []
  },
  {
   "cell_type": "code",
   "execution_count": 21,
   "id": "c5fb79e1-64b7-4066-a86c-00bfa09024ab",
   "metadata": {},
   "outputs": [
    {
     "name": "stdout",
     "output_type": "stream",
     "text": [
      "Table 'talk' has been dropped.\n"
     ]
    }
   ],
   "source": [
    "# Drop table\n",
    "\n",
    "conn = connect_to_db()\n",
    "cursor = conn.cursor()\n",
    "\n",
    "# Drop the table if it exists\n",
    "cursor.execute(\"DROP TABLE IF EXISTS talk;\")\n",
    "conn.commit()\n",
    "\n",
    "print(\"Table 'talk' has been dropped.\")\n",
    "\n",
    "# Close the cursor and connection\n",
    "cursor.close()\n",
    "conn.close()"
   ]
  },
  {
   "cell_type": "code",
   "execution_count": 22,
   "id": "9fb5df3c-d04b-4812-8f3c-0f7dcd18564a",
   "metadata": {},
   "outputs": [
    {
     "name": "stdout",
     "output_type": "stream",
     "text": [
      "Tables: No tables found.\n"
     ]
    }
   ],
   "source": [
    "list_tables()"
   ]
  },
  {
   "cell_type": "code",
   "execution_count": null,
   "id": "fcf24c54-12df-407e-ba23-dd7940b9e64f",
   "metadata": {},
   "outputs": [],
   "source": []
  }
 ],
 "metadata": {
  "kernelspec": {
   "display_name": "TheraBuddyRAG",
   "language": "python",
   "name": "therabuddyrag"
  },
  "language_info": {
   "codemirror_mode": {
    "name": "ipython",
    "version": 3
   },
   "file_extension": ".py",
   "mimetype": "text/x-python",
   "name": "python",
   "nbconvert_exporter": "python",
   "pygments_lexer": "ipython3",
   "version": "3.12.5"
  }
 },
 "nbformat": 4,
 "nbformat_minor": 5
}
