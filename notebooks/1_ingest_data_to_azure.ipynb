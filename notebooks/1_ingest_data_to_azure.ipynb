{
 "cells": [
  {
   "cell_type": "markdown",
   "id": "c68ddb73-3e36-4fce-af95-6d0fc812ef28",
   "metadata": {},
   "source": [
    "# Load data into Azure Data Lake Storage Gen 2"
   ]
  },
  {
   "cell_type": "code",
   "execution_count": 1,
   "id": "e5d89783-81ac-4f7e-9c9e-99ecbd2248be",
   "metadata": {},
   "outputs": [],
   "source": [
    "import os\n",
    "from azure.storage.blob import BlobServiceClient\n",
    "from dotenv import load_dotenv "
   ]
  },
  {
   "cell_type": "code",
   "execution_count": 2,
   "id": "e0aaed9a-2fe1-4947-8f20-03347da99ae9",
   "metadata": {},
   "outputs": [],
   "source": [
    "# Setting up our functions\n",
    "\n",
    "# Function to connect to ADLS Gen2\n",
    "def create_blob_service_client(connection_string):\n",
    "    return BlobServiceClient.from_connection_string(connection_string)\n",
    "\n",
    "# Function to upload files to the respective directories in Azure\n",
    "def upload_file_to_adls(file_path, container_name, azure_directory, blob_service_client):\n",
    "    blob_path = f\"{azure_directory}/{os.path.basename(file_path)}\"  # Preserving file name\n",
    "    print(f\"Uploading {file_path} to {blob_path}...\")\n",
    "\n",
    "    # Upload the file to Azure\n",
    "    blob_client = blob_service_client.get_blob_client(container=container_name, blob=blob_path)\n",
    "    with open(file_path, \"rb\") as data:\n",
    "        blob_client.upload_blob(data, overwrite=True)\n",
    "    print(f\"Upload complete for {file_path} to {blob_path}\")\n",
    "\n",
    "# Function to iterate over the files and upload to corresponding directories\n",
    "def upload_files_to_adls(local_directory, container_name, directory_mapping, blob_service_client):\n",
    "    for local_subdirectory, azure_directory in directory_mapping.items():\n",
    "        # Full local path to the subdirectory\n",
    "        full_local_path = os.path.join(local_directory, local_subdirectory)\n",
    "\n",
    "        if os.path.isdir(full_local_path):\n",
    "            # Loop through all files in the current local subdirectory\n",
    "            for file_name in os.listdir(full_local_path):\n",
    "                file_path_on_local = os.path.join(full_local_path, file_name)\n",
    "                if os.path.isfile(file_path_on_local):\n",
    "                    # Upload each file to the corresponding Azure directory\n",
    "                    upload_file_to_adls(file_path_on_local, container_name, azure_directory, blob_service_client)"
   ]
  },
  {
   "cell_type": "code",
   "execution_count": 3,
   "id": "dbd0f930-53da-495f-87cd-9eac164402af",
   "metadata": {},
   "outputs": [],
   "source": [
    "# Set the variables for the local directory, Azure container and connection string\n",
    "\n",
    "load_dotenv() \n",
    "\n",
    "local_directory = os.getenv('DATASET_PATH') # DATASET_PATH stored in .env file\n",
    "connection_string = os.getenv('AZURE_CONNECTION_STRING') # AZURE_CONNECTION_STRING stored in .env file\n",
    "container_name = os.getenv('ADLS_CONTAINER_NAME') # ADLS_CONTAINER_NAME stored in .env file\n"
   ]
  },
  {
   "cell_type": "code",
   "execution_count": 4,
   "id": "ad68e8c4-0b18-4434-8e97-3eaa63a6b3af",
   "metadata": {},
   "outputs": [],
   "source": [
    "# Create the BlobServiceClient\n",
    "blob_service_client = create_blob_service_client(connection_string)"
   ]
  },
  {
   "cell_type": "code",
   "execution_count": 5,
   "id": "0221fc9c-86cb-44d7-baff-b4b4fcc38e64",
   "metadata": {},
   "outputs": [
    {
     "name": "stdout",
     "output_type": "stream",
     "text": [
      "Uploading C:\\\\Users\\\\matth\\\\My_Projects\\\\2024_Zoom_Camp_RAG_Project\\\\data\\counsel_chat_data\\counsel_chat_data.json to counsel_chat_data/counsel_chat_data.json...\n",
      "Upload complete for C:\\\\Users\\\\matth\\\\My_Projects\\\\2024_Zoom_Camp_RAG_Project\\\\data\\counsel_chat_data\\counsel_chat_data.json to counsel_chat_data/counsel_chat_data.json\n"
     ]
    }
   ],
   "source": [
    "# Loading our data from each data folder\n",
    "\n",
    "local_data_folder_1 = 'counsel_chat_data' # Subfolder within the main local data directory\n",
    "adls_directory_1 = 'counsel_chat_data' # Target directory in ADLS\n",
    "\n",
    "# Define the mapping of your local folder to the ADLS directory\n",
    "directory_mapping_1 = {\n",
    "    local_data_folder_1: adls_directory_1  # Files in 'local_folder_1' will go to 'adls_directory_2' in ADLS\n",
    "}\n",
    "\n",
    "# Call the function to upload files\n",
    "upload_files_to_adls(local_directory, container_name, directory_mapping_1, blob_service_client)"
   ]
  },
  {
   "cell_type": "code",
   "execution_count": 6,
   "id": "1f9de7df-b8ff-47aa-822d-03e8906285af",
   "metadata": {},
   "outputs": [
    {
     "name": "stdout",
     "output_type": "stream",
     "text": [
      "Uploading C:\\\\Users\\\\matth\\\\My_Projects\\\\2024_Zoom_Camp_RAG_Project\\\\data\\mentalhealth_data\\mentalhealth_data_part1.json to mentalhealth_data/mentalhealth_data_part1.json...\n",
      "Upload complete for C:\\\\Users\\\\matth\\\\My_Projects\\\\2024_Zoom_Camp_RAG_Project\\\\data\\mentalhealth_data\\mentalhealth_data_part1.json to mentalhealth_data/mentalhealth_data_part1.json\n",
      "Uploading C:\\\\Users\\\\matth\\\\My_Projects\\\\2024_Zoom_Camp_RAG_Project\\\\data\\mentalhealth_data\\mentalhealth_data_part10.json to mentalhealth_data/mentalhealth_data_part10.json...\n",
      "Upload complete for C:\\\\Users\\\\matth\\\\My_Projects\\\\2024_Zoom_Camp_RAG_Project\\\\data\\mentalhealth_data\\mentalhealth_data_part10.json to mentalhealth_data/mentalhealth_data_part10.json\n",
      "Uploading C:\\\\Users\\\\matth\\\\My_Projects\\\\2024_Zoom_Camp_RAG_Project\\\\data\\mentalhealth_data\\mentalhealth_data_part11.json to mentalhealth_data/mentalhealth_data_part11.json...\n",
      "Upload complete for C:\\\\Users\\\\matth\\\\My_Projects\\\\2024_Zoom_Camp_RAG_Project\\\\data\\mentalhealth_data\\mentalhealth_data_part11.json to mentalhealth_data/mentalhealth_data_part11.json\n",
      "Uploading C:\\\\Users\\\\matth\\\\My_Projects\\\\2024_Zoom_Camp_RAG_Project\\\\data\\mentalhealth_data\\mentalhealth_data_part2.json to mentalhealth_data/mentalhealth_data_part2.json...\n",
      "Upload complete for C:\\\\Users\\\\matth\\\\My_Projects\\\\2024_Zoom_Camp_RAG_Project\\\\data\\mentalhealth_data\\mentalhealth_data_part2.json to mentalhealth_data/mentalhealth_data_part2.json\n",
      "Uploading C:\\\\Users\\\\matth\\\\My_Projects\\\\2024_Zoom_Camp_RAG_Project\\\\data\\mentalhealth_data\\mentalhealth_data_part3.json to mentalhealth_data/mentalhealth_data_part3.json...\n",
      "Upload complete for C:\\\\Users\\\\matth\\\\My_Projects\\\\2024_Zoom_Camp_RAG_Project\\\\data\\mentalhealth_data\\mentalhealth_data_part3.json to mentalhealth_data/mentalhealth_data_part3.json\n",
      "Uploading C:\\\\Users\\\\matth\\\\My_Projects\\\\2024_Zoom_Camp_RAG_Project\\\\data\\mentalhealth_data\\mentalhealth_data_part4.json to mentalhealth_data/mentalhealth_data_part4.json...\n",
      "Upload complete for C:\\\\Users\\\\matth\\\\My_Projects\\\\2024_Zoom_Camp_RAG_Project\\\\data\\mentalhealth_data\\mentalhealth_data_part4.json to mentalhealth_data/mentalhealth_data_part4.json\n",
      "Uploading C:\\\\Users\\\\matth\\\\My_Projects\\\\2024_Zoom_Camp_RAG_Project\\\\data\\mentalhealth_data\\mentalhealth_data_part5.json to mentalhealth_data/mentalhealth_data_part5.json...\n",
      "Upload complete for C:\\\\Users\\\\matth\\\\My_Projects\\\\2024_Zoom_Camp_RAG_Project\\\\data\\mentalhealth_data\\mentalhealth_data_part5.json to mentalhealth_data/mentalhealth_data_part5.json\n",
      "Uploading C:\\\\Users\\\\matth\\\\My_Projects\\\\2024_Zoom_Camp_RAG_Project\\\\data\\mentalhealth_data\\mentalhealth_data_part6.json to mentalhealth_data/mentalhealth_data_part6.json...\n",
      "Upload complete for C:\\\\Users\\\\matth\\\\My_Projects\\\\2024_Zoom_Camp_RAG_Project\\\\data\\mentalhealth_data\\mentalhealth_data_part6.json to mentalhealth_data/mentalhealth_data_part6.json\n",
      "Uploading C:\\\\Users\\\\matth\\\\My_Projects\\\\2024_Zoom_Camp_RAG_Project\\\\data\\mentalhealth_data\\mentalhealth_data_part7.json to mentalhealth_data/mentalhealth_data_part7.json...\n",
      "Upload complete for C:\\\\Users\\\\matth\\\\My_Projects\\\\2024_Zoom_Camp_RAG_Project\\\\data\\mentalhealth_data\\mentalhealth_data_part7.json to mentalhealth_data/mentalhealth_data_part7.json\n",
      "Uploading C:\\\\Users\\\\matth\\\\My_Projects\\\\2024_Zoom_Camp_RAG_Project\\\\data\\mentalhealth_data\\mentalhealth_data_part8.json to mentalhealth_data/mentalhealth_data_part8.json...\n",
      "Upload complete for C:\\\\Users\\\\matth\\\\My_Projects\\\\2024_Zoom_Camp_RAG_Project\\\\data\\mentalhealth_data\\mentalhealth_data_part8.json to mentalhealth_data/mentalhealth_data_part8.json\n",
      "Uploading C:\\\\Users\\\\matth\\\\My_Projects\\\\2024_Zoom_Camp_RAG_Project\\\\data\\mentalhealth_data\\mentalhealth_data_part9.json to mentalhealth_data/mentalhealth_data_part9.json...\n",
      "Upload complete for C:\\\\Users\\\\matth\\\\My_Projects\\\\2024_Zoom_Camp_RAG_Project\\\\data\\mentalhealth_data\\mentalhealth_data_part9.json to mentalhealth_data/mentalhealth_data_part9.json\n"
     ]
    }
   ],
   "source": [
    " # Loading our data from each data folder\n",
    "\n",
    "local_data_folder_2 = 'mentalhealth_data' # Subfolder within the main local data directory\n",
    "adls_directory_2 = 'mentalhealth_data' # Target directory in ADLS\n",
    "\n",
    "# Define the mapping of your local folder to the ADLS directory\n",
    "directory_mapping_2 = {\n",
    "    local_data_folder_2: adls_directory_2  # Files in 'local_folder_2' will go to 'adls_directory_2' in ADLS\n",
    "}\n",
    "\n",
    "# Call the function to upload files\n",
    "upload_files_to_adls(local_directory, container_name, directory_mapping_2, blob_service_client)"
   ]
  },
  {
   "cell_type": "code",
   "execution_count": null,
   "id": "7adc2f2d-f369-4521-9538-991873a68e27",
   "metadata": {},
   "outputs": [],
   "source": [
    "# Generic cell to load any new data folders. For future use\n",
    "\n",
    "# Loading our data from each data folder\n",
    "\n",
    "local_data_folder_x = 'my_folder' # Subfolder within the main local data directory\n",
    "adls_directory_x = 'my_adls_dir' # Target directory in ADLS\n",
    "\n",
    "# Define the mapping of your local folder to the ADLS directory\n",
    "directory_mapping_x = {\n",
    "    local_data_folder_x: adls_directory_x  # Files in 'local_folder_x' will go to 'adls_directory_x' in ADLS\n",
    "}\n",
    "\n",
    "# Call the function to upload files\n",
    "upload_files_to_adls(local_directory, container_name, directory_mapping_x, blob_service_client) "
   ]
  }
 ],
 "metadata": {
  "kernelspec": {
   "display_name": "Python 3 (ipykernel)",
   "language": "python",
   "name": "python3"
  },
  "language_info": {
   "codemirror_mode": {
    "name": "ipython",
    "version": 3
   },
   "file_extension": ".py",
   "mimetype": "text/x-python",
   "name": "python",
   "nbconvert_exporter": "python",
   "pygments_lexer": "ipython3",
   "version": "3.12.5"
  }
 },
 "nbformat": 4,
 "nbformat_minor": 5
}
