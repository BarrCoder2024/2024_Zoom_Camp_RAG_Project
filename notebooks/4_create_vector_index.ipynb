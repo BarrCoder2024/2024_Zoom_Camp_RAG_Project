{
 "cells": [
  {
   "cell_type": "code",
   "execution_count": 1,
   "id": "9a242452-8296-4d88-953f-d7efd37e117e",
   "metadata": {},
   "outputs": [],
   "source": [
    "import os\n",
    "import psycopg2\n",
    "from dotenv import load_dotenv"
   ]
  },
  {
   "cell_type": "code",
   "execution_count": 2,
   "id": "984a63ec-d9b3-4105-a84a-58f5f4f647a0",
   "metadata": {},
   "outputs": [],
   "source": [
    "# Load environment variables\n",
    "load_dotenv()\n",
    "\n",
    "# Get PostgreSQL connection details from environment variables\n",
    "username = os.getenv('PG_ADMIN_USERNAME')\n",
    "password = os.getenv('PG_ADMIN_PASSWORD')\n",
    "host = os.getenv('PG_SERVER_NAME')\n",
    "port = os.getenv('POSTGRES_PORT')\n",
    "database = os.getenv('PG_DATABASE')\n",
    "\n",
    "# The PostgreSQL connection string \n",
    "POSTGRESQL_CONNECTION = f\"postgresql://{username}:{password}@{host}:{port}/{database}\""
   ]
  },
  {
   "cell_type": "code",
   "execution_count": 3,
   "id": "1a80681c-1803-4fdc-8d31-db8923619285",
   "metadata": {},
   "outputs": [
    {
     "name": "stdout",
     "output_type": "stream",
     "text": [
      "Vector index created successfully.\n"
     ]
    }
   ],
   "source": [
    "# Create a vector index to allow for faster similarity searches.\n",
    "\n",
    "def create_vector_index():\n",
    "    try:\n",
    "        # Connect to the database\n",
    "        with psycopg2.connect(POSTGRESQL_CONNECTION) as conn:\n",
    "            with conn.cursor() as cur:\n",
    "                # Create the index\n",
    "                cur.execute(\"\"\"\n",
    "                    CREATE INDEX IF NOT EXISTS talk_question_vector_idx \n",
    "                    ON talk USING ivfflat (question_vector vector_cosine_ops)\n",
    "                    WITH (lists = 100);\n",
    "                \"\"\")\n",
    "                \n",
    "                # Commit the transaction\n",
    "                conn.commit()\n",
    "                \n",
    "        print(\"Vector index created successfully.\")\n",
    "    except Exception as e:\n",
    "        print(f\"An error occurred while creating the index: {e}\")\n",
    "\n",
    "# Run the function to create the index\n",
    "if __name__ == \"__main__\":\n",
    "    create_vector_index()"
   ]
  },
  {
   "cell_type": "code",
   "execution_count": null,
   "id": "828b8bc9-5bb2-40c9-b241-ae205b5383fc",
   "metadata": {},
   "outputs": [],
   "source": []
  }
 ],
 "metadata": {
  "kernelspec": {
   "display_name": "TheraBuddyRAG",
   "language": "python",
   "name": "therabuddyrag"
  },
  "language_info": {
   "codemirror_mode": {
    "name": "ipython",
    "version": 3
   },
   "file_extension": ".py",
   "mimetype": "text/x-python",
   "name": "python",
   "nbconvert_exporter": "python",
   "pygments_lexer": "ipython3",
   "version": "3.12.5"
  }
 },
 "nbformat": 4,
 "nbformat_minor": 5
}
