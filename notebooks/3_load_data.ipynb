{
 "cells": [
  {
   "cell_type": "code",
   "execution_count": null,
   "id": "88051407-a42d-462b-a4df-7024a5419e46",
   "metadata": {},
   "outputs": [],
   "source": [
    "import os\n",
    "from dotenv import load_dotenv \n",
    "import json\n",
    "import psycopg2\n",
    "from psycopg2.extras import Json\n",
    "from azure.storage.blob import BlobServiceClient\n",
    "from langchain_openai import OpenAIEmbeddings"
   ]
  },
  {
   "cell_type": "code",
   "execution_count": null,
   "id": "e24f05f0-b2c9-481c-b0c8-82a2e77e23d2",
   "metadata": {},
   "outputs": [],
   "source": [
    "# Check 1: Connection to Azure Blob Storage\n",
    "\n",
    "# Load environment variables from .env file\n",
    "load_dotenv() \n",
    "\n",
    "# Load Azure connection string and container details from environment variables\n",
    "azure_connection_string = os.getenv(\"AZURE_CONNECTION_STRING\")\n",
    "container_name = os.getenv(\"ADLS_CONTAINER_NAME\")\n",
    "\n",
    "# Initialize BlobServiceClient\n",
    "blob_service_client = BlobServiceClient.from_connection_string(azure_connection_string)\n",
    "container_client = blob_service_client.get_container_client(container_name)\n",
    "\n",
    "# Function to list blobs in a directory\n",
    "def list_blobs_in_directory(directory_name):\n",
    "    blob_list = container_client.list_blobs(name_starts_with=directory_name)\n",
    "    return [blob.name for blob in blob_list if '.' in blob.name]  # Only include blobs with a file extension\n",
    "\n",
    "# List the blobs in both directories \n",
    "counsel_chat_blobs = list_blobs_in_directory(\"counsel_chat_data\")\n",
    "mental_health_blobs = list_blobs_in_directory(\"mentalhealth_data\")\n",
    "\n",
    "# Function to get blob size\n",
    "def get_blob_size(blob_name):\n",
    "    blob_client = blob_service_client.get_blob_client(container=container_name, blob=blob_name)\n",
    "    properties = blob_client.get_blob_properties()\n",
    "    size_in_bytes = properties.size\n",
    "    size_in_mb = size_in_bytes / (1024 * 1024)  # Convert bytes to MB\n",
    "    return size_in_mb  # Return the size of the blob in MB\n",
    "\n",
    "# Print out the blob names and their sizes in MB\n",
    "print(\"Counsel Chat Files and Sizes:\")\n",
    "for blob_name in counsel_chat_blobs:\n",
    "    if '.' in blob_name:  # Ensure we're only printing actual files, not directories\n",
    "        blob_size_mb = get_blob_size(blob_name)\n",
    "        print(f\"File: {blob_name}, Size: {blob_size_mb:.2f} MB\")\n",
    "\n",
    "print(\"\\nMental Health Files and Sizes:\")\n",
    "for blob_name in mental_health_blobs:\n",
    "    if '.' in blob_name:  # Ensure we're only printing actual files, not directories\n",
    "        blob_size_mb = get_blob_size(blob_name)\n",
    "        print(f\"File: {blob_name}, Size: {blob_size_mb:.2f} MB\")"
   ]
  },
  {
   "cell_type": "code",
   "execution_count": null,
   "id": "4c64f1b4-df7a-4049-972d-f25148e01cc1",
   "metadata": {},
   "outputs": [],
   "source": [
    "# Check 2: Connection to database\n",
    "# Load environment variables from .env file\n",
    "load_dotenv() \n",
    "# Get PostgreSQL connection details from environment variables\n",
    "username = os.getenv('PG_ADMIN_USERNAME')  # Get the server admin login name stored in .env file\n",
    "password = os.getenv('PG_ADMIN_PASSWORD')  # Get the server password stored in .env file\n",
    "host = os.getenv('PG_SERVER_NAME')         # Get the server name stored in .env file\n",
    "port = os.getenv('POSTGRES_PORT')          # Get the Standard PostgreSQL port stored in .env file\n",
    "database = os.getenv('PG_DATABASE')        # Get the database name stored in .env file\n",
    "\n",
    "# The PostgreSQL connection string \n",
    "POSTGRESQL_CONNECTION = f\"postgresql://{username}:{password}@{host}:{port}/{database}\"\n",
    "\n",
    "# Connect to the PostgreSQL database\n",
    "def connect_to_db():\n",
    "    connection = psycopg2.connect(POSTGRESQL_CONNECTION)\n",
    "    return connection\n",
    "\n",
    "# Test the connection\n",
    "try:\n",
    "    conn = connect_to_db()\n",
    "    cursor = conn.cursor()\n",
    "    print(\"Nice! Connection successful!\")\n",
    "    cursor.close()\n",
    "    conn.close()\n",
    "except Exception as e:\n",
    "    print(f\"Error: {e}\")"
   ]
  }
 ],
 "metadata": {
  "kernelspec": {
   "display_name": "TheraBuddyRAG",
   "language": "python",
   "name": "therabuddyrag"
  },
  "language_info": {
   "codemirror_mode": {
    "name": "ipython",
    "version": 3
   },
   "file_extension": ".py",
   "mimetype": "text/x-python",
   "name": "python",
   "nbconvert_exporter": "python",
   "pygments_lexer": "ipython3",
   "version": "3.12.5"
  }
 },
 "nbformat": 4,
 "nbformat_minor": 5
}
