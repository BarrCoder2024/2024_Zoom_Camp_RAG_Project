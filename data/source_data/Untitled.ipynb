{
 "cells": [
  {
   "cell_type": "code",
   "execution_count": 4,
   "id": "d6c7065b-2c4d-43a1-9cb0-47ced0c380b8",
   "metadata": {},
   "outputs": [
    {
     "name": "stdout",
     "output_type": "stream",
     "text": [
      "First 500 characters of the file:\n",
      "{\n",
      "    \"intents\": [\n",
      "        {\n",
      "            \"tag\": \"greeting\",\n",
      "            \"patterns\": [\n",
      "                \"Hi\",\n",
      "                \"Hey\",\n",
      "                \"Is anyone there?\",\n",
      "                \"Hi there\",\n",
      "                \"Hello\",\n",
      "                \"Hey there\",\n",
      "                \"Howdy\",\n",
      "                \"Hola\",\n",
      "                \"Bonjour\",\n",
      "                \"Konnichiwa\",\n",
      "                \"Guten tag\",\n",
      "                \"Ola\",\n",
      "                \"Namaste\",\n",
      "                \"Salut\",\n",
      "                \"Ciao\",\n",
      "                \"\n",
      "\n",
      "File type: <class 'str'>\n",
      "Successfully parsed as JSON\n",
      "Type of parsed data: <class 'dict'>\n"
     ]
    }
   ],
   "source": [
    "import json\n",
    "\n",
    "file_path = 'C:/Users/matth/My_Projects/2024_Zoom_Camp_RAG_Project/data/source_data/mentalhealth_data_ORIGINAL.json'\n",
    "import json\n",
    "\n",
    "def inspect_file_content(file_path):\n",
    "    with open(file_path, 'r') as file:\n",
    "        content = file.read()\n",
    "    print(\"First 500 characters of the file:\")\n",
    "    print(content[:500])\n",
    "    print(\"\\nFile type:\", type(content))\n",
    "    try:\n",
    "        json_data = json.loads(content)\n",
    "        print(\"Successfully parsed as JSON\")\n",
    "        print(\"Type of parsed data:\", type(json_data))\n",
    "        if isinstance(json_data, list):\n",
    "            print(\"Number of items:\", len(json_data))\n",
    "            if json_data:\n",
    "                print(\"First item:\", json_data[0])\n",
    "    except json.JSONDecodeError:\n",
    "        print(\"Failed to parse as JSON\")\n",
    "\n",
    " \n",
    "inspect_file_content(file_path)"
   ]
  },
  {
   "cell_type": "code",
   "execution_count": 2,
   "id": "d6667464-e8fe-4009-b397-3c5999809588",
   "metadata": {},
   "outputs": [
    {
     "name": "stdout",
     "output_type": "stream",
     "text": [
      "Current working directory: C:\\Users\\matth\\My_Projects\\2024_Zoom_Camp_RAG_Project\\data\\source_data\n"
     ]
    }
   ],
   "source": [
    "import os\n",
    "\n",
    "print(\"Current working directory:\", os.getcwd())"
   ]
  },
  {
   "cell_type": "code",
   "execution_count": null,
   "id": "cc695cc4-6175-4de9-9885-74d587755d69",
   "metadata": {},
   "outputs": [],
   "source": []
  }
 ],
 "metadata": {
  "kernelspec": {
   "display_name": "TheraBuddyRAG",
   "language": "python",
   "name": "therabuddyrag"
  },
  "language_info": {
   "codemirror_mode": {
    "name": "ipython",
    "version": 3
   },
   "file_extension": ".py",
   "mimetype": "text/x-python",
   "name": "python",
   "nbconvert_exporter": "python",
   "pygments_lexer": "ipython3",
   "version": "3.12.5"
  }
 },
 "nbformat": 4,
 "nbformat_minor": 5
}
